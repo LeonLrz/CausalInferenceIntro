{
 "cells": [
  {
   "cell_type": "markdown",
   "id": "ac4e1c41",
   "metadata": {},
   "source": [
    "# 13 - 面板数据和固定效应\n",
    "\n",
    "## 控制你看不到的东西\n",
    "\n",
    "倾向得分、线性回归和匹配等方法非常擅长控制非随机数据中的混淆现象，但它们依赖于一个关键假设：控制后无混淆\n",
    "\n",
    "$\n",
    "(Y_0, Y_1) \\perp T | X\n",
    "$\n",
    "\n",
    "简而言之，它们要求所有混淆因素都是已知的和可测量的，这样我们才能以它们为条件并使处理尽可能随机。一个主要问题是有时我们根本无法衡量混淆因素。例如，拿一个经典的劳动经济学问题来计算婚姻对男性收入的影响。经济学中众所周知的事实是，已婚男性的收入高于单身男性。但是，尚不清楚这种关系是否是因果关系。可能是受过更多教育的男性更有可能结婚，也更有可能从事高收入工作，这意味着教育是婚姻对收入影响的一个混淆因素。对于这个混杂因素，我们可以衡量研究中人员的教育程度，并对其进行回归控制。但另一个混淆因素可能是好看的外貌。可能是更英俊的男人更有可能结婚，也更有可能获得高薪工作。不幸的是，美丽和智力这类特征类似，这是我们无法很好衡量的东西。\n",
    "\n",
    "这使我们陷入困境，因为如果我们有无法衡量的混淆因素，我们就有偏差。正如我们之前所见，处理这个问题的一种方法是使用工具变量。但是想出好的工具变量并不是一件容易的事，需要很多的创造力。在这里，让我们看一下利用时间或数据的时间结构的替代方案。\n",
    "\n",
    "这个想法是使用**面板数据**。面板数据是当我们在多个时间段内对同一个人进行**观察时**。面板数据格式在行业中非常常见，它们保存同一客户和多个时间段的客户行为记录。我们可以利用面板数据的原因是因为我们可以在治疗前后比较同一个单位，看看他们在治疗前后的表现如何。在我们深入数学之前，让我们看看这是如何直观地理解的。"
   ]
  },
  {
   "cell_type": "code",
   "execution_count": null,
   "id": "863afdfb",
   "metadata": {},
   "outputs": [],
   "source": [
    "import warnings\n",
    "warnings.filterwarnings('ignore')\n",
    "\n",
    "import pandas as pd\n",
    "import numpy as np\n",
    "from matplotlib import style\n",
    "from matplotlib import pyplot as plt\n",
    "import statsmodels.formula.api as smf\n",
    "import graphviz as gr\n",
    "\n",
    "from linearmodels.panel import PanelOLS\n",
    "\n",
    "\n",
    "%matplotlib inline\n",
    "pd.set_option(\"display.max_columns\", 6)\n",
    "style.use(\"fivethirtyeight\")"
   ]
  },
  {
   "cell_type": "markdown",
   "id": "a8fc10b2",
   "metadata": {},
   "source": [
    "首先，让我们看一下我们在跨时间包含同一单位的多个观察后得到的因果图。 假设我们有这样一种情况，第一次结婚同时导致收入和随后的婚姻状况。 对于第 2 次和第 3 次也是如此。此外，假设所有时间段的美貌都是相同的（这是一个大胆的说法，但如果时间只有几年，这是合理的），它会导致婚姻和收入。"
   ]
  },
  {
   "cell_type": "code",
   "execution_count": null,
   "id": "e220106a",
   "metadata": {},
   "outputs": [],
   "source": [
    "g = gr.Digraph()\n",
    "g.edge(\"Marriage_1\", \"Income_1\")\n",
    "g.edge(\"Marriage_1\", \"Marriage_2\")\n",
    "g.edge(\"Marriage_2\", \"Income_2\")\n",
    "g.edge(\"Marriage_2\", \"Marriage_3\")\n",
    "g.edge(\"Marriage_3\", \"Income_3\")\n",
    "\n",
    "g.edge(\"Beauty\", \"Marriage_1\")\n",
    "g.edge(\"Beauty\", \"Marriage_2\")\n",
    "g.edge(\"Beauty\", \"Marriage_3\")\n",
    "\n",
    "g.edge(\"Beauty\", \"Income_1\")\n",
    "g.edge(\"Beauty\", \"Income_2\")\n",
    "g.edge(\"Beauty\", \"Income_3\")\n",
    "\n",
    "g"
   ]
  },
  {
   "cell_type": "markdown",
   "id": "7df33444",
   "metadata": {},
   "source": [
    "请记住，我们无法控制外貌多美这个因素，因为我们无法衡量它。 但是我们仍然可以使用面板结构，所以它不再是问题了。 这个想法是，我们可以将美——以及任何其他随时间不变的属性——视为定义一个人的综合要素。 虽然我们不能直接控制它们，但我们可以控制个人本身。"
   ]
  },
  {
   "cell_type": "code",
   "execution_count": null,
   "id": "a9e30326",
   "metadata": {},
   "outputs": [],
   "source": [
    "g = gr.Digraph()\n",
    "g.edge(\"Marriage_1\", \"Income_1\")\n",
    "g.edge(\"Marriage_1\", \"Marriage_2\")\n",
    "g.edge(\"Marriage_2\", \"Income_2\")\n",
    "g.edge(\"Marriage_2\", \"Marriage_3\")\n",
    "g.edge(\"Marriage_3\", \"Income_3\")\n",
    "\n",
    "g.edge(\"Person (Beauty, Intelligence...)\", \"Marriage_1\")\n",
    "g.edge(\"Person (Beauty, Intelligence...)\", \"Marriage_2\")\n",
    "g.edge(\"Person (Beauty, Intelligence...)\", \"Marriage_3\")\n",
    "\n",
    "g.edge(\"Person (Beauty, Intelligence...)\", \"Income_1\")\n",
    "g.edge(\"Person (Beauty, Intelligence...)\", \"Income_2\")\n",
    "g.edge(\"Person (Beauty, Intelligence...)\", \"Income_3\")\n",
    "\n",
    "g"
   ]
  },
  {
   "cell_type": "markdown",
   "id": "281057cb",
   "metadata": {},
   "source": [
    "想想看。我们无法衡量美貌和智力等属性，但我们知道拥有这些属性的人是同一个人。因此，我们可以创建一个表示该人的虚拟变量并将其添加到线性模型中。当我们说我们可以控制人本身时，这就是我们的意思：我们正在添加一个表示该特定人的变量（在本例中为虚拟变量）。在我们的模型中使用这个人来估计婚姻对收入的影响时，回归发现婚姻的影响**同时保持人这个变量固定**。添加这个实体个人对应的虚拟变量就是我们所说的固定效应模型。\n",
    "\n",
    "\n",
    "## 固定效应\n",
    "\n",
    "为了方面后面更正式地讲述，让我们首先看一下我们拥有的数据。按照我们的例子，我们将尝试估计婚姻对收入的影响。我们的数据包含多年以来多个个体 (`nr`) 的这两个变量，`married` 和`lwage`。请注意，工资采用对数形式。除此之外，我们还有其他控制措施，例如当年的工作小时数、受教育年限等。"
   ]
  },
  {
   "cell_type": "code",
   "execution_count": null,
   "id": "a58dc141",
   "metadata": {},
   "outputs": [],
   "source": [
    "from linearmodels.datasets import wage_panel\n",
    "data = wage_panel.load()\n",
    "data.head()"
   ]
  },
  {
   "cell_type": "markdown",
   "id": "ba09c474",
   "metadata": {},
   "source": [
    "通常，固定效应模型定义为\n",
    "\n",
    "$\n",
    "y_{it} = \\beta X_{it} + \\gamma U_i + e_{it}\n",
    "$\n",
    "\n",
    "其中 \\\\(y_{it}\\\\) 是个体 \\\\(i\\\\) 在时间 \\\\(t\\\\) 的结果，\\\\(X_{it}\\\\) 是个体变量的向量\\\\(i\\\\) 在时间 \\\\(t\\\\)。 \\\\(U_i\\\\) 是单个 \\\\(i\\\\) 的一组不可观测值。请注意，这些不可观测值随着时间的推移是不变的，因此缺少时间下标。最后，\\\\(e_{it}\\\\) 是错误项。对于教育示例，\\\\(y_{it}\\\\) 是对数工资，\\\\(X_{it}\\\\) 是随时间变化的可观察变量，例如婚姻和经验，\\\\(U_i\\\\)是每个人没有观察到但不变的变量，例如美丽和智力。\n",
    "\n",
    "\n",
    "现在，请记住我说过使用具有固定效果模型的面板数据就像为实体添加虚拟对象一样简单。这是真的，但在实践中，我们实际上并没有这样做。想象一个我们有 100 万客户的数据集。如果我们为它们中的每一个添加一个 dummy，我们最终会得到 100 万列，这可能不是一个好主意。相反，我们使用将线性回归划分为 2 个独立模型的技巧。我们以前见过这个，但现在是回顾它的好时机。假设您有一个线性回归模型，其中包含一组特征 \\\\(X_1\\\\) 和另一组特征 \\\\(X_2\\\\)。\n",
    "\n",
    "$\n",
    "\\hat{Y} = \\hat{\\beta_1} X_1 + \\hat{\\beta_2} X_2\n",
    "$\n",
    "\n",
    "其中 \\\\(X_1\\\\) 和 \\\\(X_1\\\\) 是特征矩阵（每个特征一行，每个观察一列）和 \\\\(\\hat{\\beta_1}\\\\) 和 \\\\(\\hat{ \\beta_2}\\\\) 是行向量。您可以通过执行获得完全相同的 \\\\(\\hat{\\beta_1}\\\\) 参数\n",
    "\n",
    "1. 在第二组特征 \\\\(\\hat{y^*} = \\hat{\\gamma_1} X_2\\\\) 上回归结果 \\\\(y\\\\)\n",
    "2. 在第二个 \\\\(\\hat{X_1} = \\hat{\\gamma_2} X_2\\\\) 上回归第一组特征\n",
    "3. 得到残差 \\\\(\\tilde{X}_1 = X_1 - \\hat{X_1}\\\\) 和 \\\\(\\tilde{y}_1 = y_1 - \\hat{y^*}\\\\)\n",
    "4. 将结果的残差回归到特征残差 \\\\(\\hat{y} = \\hat{\\beta_1} \\tilde{X}_1\\\\)\n",
    "\n",
    "最后一次回归的参数将与使用所有特征运行回归完全相同。但这究竟对我们有什么帮助呢？好吧，我们可以将带有实体假人的模型的估计分解为 2。首先，我们使用假人来预测结果和特征。这些是上面的步骤 1 和 2。\n",
    "\n",
    "现在，还记得在虚拟变量上运行回归是如何像估计该虚拟变量的平均值一样简单吗？如果你不这样做，让我们用我们的数据来证明这是真的。让我们运行一个模型，我们将工资预测为虚拟年份的函数。"
   ]
  },
  {
   "cell_type": "code",
   "execution_count": null,
   "id": "a092d1eb",
   "metadata": {},
   "outputs": [],
   "source": [
    "mod = smf.ols(\"lwage ~ C(year)\", data=data).fit()\n",
    "mod.summary().tables[1]"
   ]
  },
  {
   "cell_type": "markdown",
   "id": "33626c7f",
   "metadata": {},
   "source": [
    "请注意该模型如何预测 1980 年的平均收入为 1.3935，1981 年的平均收入为 1.5129 (1.3935+0.1194) 等等。 现在，如果我们按年份计算平均值，我们会得到完全相同的结果。 （请记住，基准年 1980 是截距。因此，您必须将截距添加到其他年份的参数中才能获得该年的平均`lwage`）。"
   ]
  },
  {
   "cell_type": "code",
   "execution_count": null,
   "id": "fdde9c8f",
   "metadata": {},
   "outputs": [],
   "source": [
    "data.groupby(\"year\")[\"lwage\"].mean()"
   ]
  },
  {
   "cell_type": "markdown",
   "id": "7bbaeaf8",
   "metadata": {},
   "source": [
    "这意味着，如果我们得到面板中每个人的平均值，我们基本上是在对其他变量进行个体虚拟回归。这激发了以下估计过程：\n",
    "\n",
    "1. 通过减去个人的平均值来创建时间贬损变量：\n",
    "$\\ddot{Y}_{it} = Y_{it} - \\bar{Y}_i$\n",
    "$\\ddot{X}_{it} = X_{it} - \\bar{X}_i$\n",
    "\n",
    "2. 在 $\\ddot{X}_{it}$ 上回归 $\\ddot{Y}_{it}$\n",
    "\n",
    "\n",
    "请注意，当我们这样做时，未观察到的 \\\\(U_i\\\\) 消失了。由于 \\\\(U_i\\\\) 在时间上是恒定的，所以我们有 \\\\(\\bar{U_i}=U_i\\\\)。如果我们有以下两个方程组\n",
    "\n",
    "$$\n",
    "\\开始{对齐}\n",
    "Y_{it} & = \\beta X_{it} + \\gamma U_i + e_{it} \\\\\n",
    "\\bar{Y}_{i} & = \\beta \\bar{X}_{it} + \\gamma \\bar{U}_i + \\bar{e}_{it} \\\\\n",
    "\\结束{对齐}\n",
    "$$\n",
    "\n",
    "我们从另一个中减去一个，我们得到\n",
    "\n",
    "$$\n",
    "\\开始{对齐}\n",
    "(Y_{it} - \\bar{Y}_{i}) & = (\\beta X_{it} - \\beta \\bar{X}_{it}) + (\\gamma U_i - \\gamma U_i) + ( e_{it}-\\bar{e}_{it}) \\\\\n",
    "(Y_{it} - \\bar{Y}_{i}) & = \\beta(X_{it} - \\bar{X}_{it}) + (e_{it}-\\bar{e}_{它}） \\\\\n",
    "\\ddot{Y}_{it} & = \\beta \\ddot{X}_{it} + \\ddot{e}_{it} \\\\\n",
    "\\结束{对齐}\n",
    "$$\n",
    "\n",
    "它消除了所有未观察到的随时间不变的事物。老实说，不仅未观察到的变量消失了。这发生在所有时间不变的变量上。因此，您不能包含任何随时间保持不变的变量，因为它们将是虚拟变量的线性组合，并且模型不会运行。\n",
    "\n",
    "![img](./data/img/fixed-effects/demeaned.png)\n",
    "\n",
    "要检查哪些变量是这些变量，我们可以按个体对数据进行分组并获得标准差的总和。如果它为零，则意味着对于任何个人来说，变量都不会随时间变化。"
   ]
  },
  {
   "cell_type": "code",
   "execution_count": null,
   "id": "c4ed43ab",
   "metadata": {},
   "outputs": [],
   "source": [
    "data.groupby(\"nr\").std().sum()"
   ]
  },
  {
   "cell_type": "markdown",
   "id": "6d2aa219",
   "metadata": {},
   "source": [
    "对于我们的数据，我们需要删除实体假人，`black`和`hisp`，因为它们对于个人来说是恒定的。 此外，我们需要取消教育。 我们也不会使用职业，因为这可能会调节婚姻对工资的影响（可能是单身男性能够承担更多时间要求更高的职位）。 选择了我们将使用的功能后，是时候估计这个模型了。\n",
    "\n",
    "要运行我们的固定效应模型，首先，让我们获取平均数据。 我们可以通过按个人对所有内容进行分组并取平均值来实现这一点。"
   ]
  },
  {
   "cell_type": "code",
   "execution_count": null,
   "id": "3d577f59",
   "metadata": {},
   "outputs": [],
   "source": [
    "Y = \"lwage\"\n",
    "T = \"married\"\n",
    "X = [T, \"expersq\", \"union\", \"hours\"]\n",
    "\n",
    "mean_data = data.groupby(\"nr\")[X+[Y]].mean()\n",
    "mean_data.head()"
   ]
  },
  {
   "cell_type": "markdown",
   "id": "e61ac3e3",
   "metadata": {},
   "source": [
    "为了将数据围绕均值标准化（demean），我们需要将原始数据的索引设置为个体标识符，`nr`。 然后，我们可以简单地从一个数据集中减去对应的数据均值的数据集。"
   ]
  },
  {
   "cell_type": "code",
   "execution_count": null,
   "id": "43e871e0",
   "metadata": {},
   "outputs": [],
   "source": [
    "demeaned_data = (data\n",
    "               .set_index(\"nr\") # set the index as the person indicator\n",
    "               [X+[Y]]\n",
    "               - mean_data) # subtract the mean data\n",
    "\n",
    "demeaned_data.head()"
   ]
  },
  {
   "cell_type": "code",
   "execution_count": null,
   "id": "432d2b96",
   "metadata": {},
   "outputs": [],
   "source": [
    "mod = smf.ols(f\"{Y} ~ {'+'.join(X)}\", data=demeaned_data).fit()\n",
    "mod.summary().tables[1]"
   ]
  },
  {
   "cell_type": "markdown",
   "id": "782d0fd4",
   "metadata": {},
   "source": [
    "如果我们相信固定效应消除了所有遗漏的变量偏差，那么这个模型告诉我们婚姻使男人的工资增加了 11%。 这个结果非常显着。 这里的一个细节是，对于固定效应模型，需要对标准误差进行聚类。 因此，我们可以使用库 `linearmodels` 并将参数 `cluster_entity` 设置为 True，而不是手动进行所有估计（这只是出于教学原因）。"
   ]
  },
  {
   "cell_type": "code",
   "execution_count": null,
   "id": "4cf76fde",
   "metadata": {},
   "outputs": [],
   "source": [
    "from linearmodels.panel import PanelOLS\n",
    "mod = PanelOLS.from_formula(\"lwage ~ expersq+union+married+hours+EntityEffects\",\n",
    "                            data=data.set_index([\"nr\", \"year\"]))\n",
    "\n",
    "result = mod.fit(cov_type='clustered', cluster_entity=True)\n",
    "result.summary.tables[1]"
   ]
  },
  {
   "cell_type": "markdown",
   "id": "621ff0ea",
   "metadata": {},
   "source": [
    "请注意参数估计值与我们使用时间贬值数据得到的参数估计值是如何相同的。 唯一的区别是标准误差有点大。 现在，将其与不考虑数据时间结构的简单 OLS 模型进行比较。 对于这个模型，我们添加了及时不变的变量。"
   ]
  },
  {
   "cell_type": "code",
   "execution_count": null,
   "id": "a133ca1c",
   "metadata": {},
   "outputs": [],
   "source": [
    "mod = smf.ols(\"lwage ~ expersq+union+married+hours+black+hisp+educ\", data=data).fit()\n",
    "mod.summary().tables[1]"
   ]
  },
  {
   "cell_type": "markdown",
   "id": "9bb84cbe",
   "metadata": {},
   "source": [
    "这个模型是说婚姻使男人的工资增加了 14%。 比我们在固定效应模型中发现的效应要大一些。 这表明由于固定的个体因素（如智力和美貌）没有被添加到模型中，结果存在一些省略变量偏差。\n",
    "\n",
    "## 固定效应的可视化\n",
    "\n",
    "为了扩展我们对固定效应模型如何工作的直觉，让我们稍微转向另一个例子。 假设您在一家大型科技公司工作，并且您想估计广告牌营销活动对应用内购买的影响。 当您查看过去的数据时，您会发现营销部门倾向于花费更多的钱在购买水平较低的城市放置广告牌。 这是有道理的吧？ 如果销售额猛增，他们就不需要做很多广告了。 如果您在此数据上运行回归模型，看起来营销成本较高会导致应用内购买减少，但这只是因为营销投资偏向于低支出地区。"
   ]
  }
 ],
 "metadata": {
  "kernelspec": {
   "display_name": "Python 3",
   "language": "python",
   "name": "python3"
  },
  "language_info": {
   "codemirror_mode": {
    "name": "ipython",
    "version": 3
   },
   "file_extension": ".py",
   "mimetype": "text/x-python",
   "name": "python",
   "nbconvert_exporter": "python",
   "pygments_lexer": "ipython3",
   "version": "3.7.6"
  }
 },
 "nbformat": 4,
 "nbformat_minor": 5
}
