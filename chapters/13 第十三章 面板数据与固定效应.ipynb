{
 "cells": [
  {
   "cell_type": "markdown",
   "id": "ac4e1c41",
   "metadata": {},
   "source": [
    "# 13 - 面板数据和固定效应\n",
    "\n",
    "## 控制你看不到的东西\n",
    "\n",
    "倾向得分、线性回归和匹配等方法非常擅长控制非随机数据中的混淆现象，但它们依赖于一个关键假设：控制后无混淆\n",
    "\n",
    "$\n",
    "(Y_0, Y_1) \\perp T | X\n",
    "$\n",
    "\n",
    "简而言之，它们要求所有混淆因素都是已知的和可测量的，这样我们才能以它们为条件并使处理尽可能随机。一个主要问题是有时我们根本无法衡量混淆因素。例如，拿一个经典的劳动经济学问题来计算婚姻对男性收入的影响。经济学中众所周知的事实是，已婚男性的收入高于单身男性。但是，尚不清楚这种关系是否是因果关系。可能是受过更多教育的男性更有可能结婚，也更有可能从事高收入工作，这意味着教育是婚姻对收入影响的一个混淆因素。对于这个混杂因素，我们可以衡量研究中人员的教育程度，并对其进行回归控制。但另一个混淆因素可能是好看的外貌。可能是更英俊的男人更有可能结婚，也更有可能获得高薪工作。不幸的是，美丽和智力这类特征类似，这是我们无法很好衡量的东西。\n",
    "\n",
    "这使我们陷入困境，因为如果我们有无法衡量的混淆因素，我们就有偏差。正如我们之前所见，处理这个问题的一种方法是使用工具变量。但是想出好的工具变量并不是一件容易的事，需要很多的创造力。在这里，让我们看一下利用时间或数据的时间结构的替代方案。\n",
    "\n",
    "这个想法是使用**面板数据**。面板数据是当我们在多个时间段内对同一个人进行**观察时**。面板数据格式在行业中非常常见，它们保存同一客户和多个时间段的客户行为记录。我们可以利用面板数据的原因是因为我们可以在治疗前后比较同一个单位，看看他们在治疗前后的表现如何。在我们深入数学之前，让我们看看这是如何直观地理解的。"
   ]
  },
  {
   "cell_type": "code",
   "execution_count": null,
   "id": "863afdfb",
   "metadata": {},
   "outputs": [],
   "source": [
    "import warnings\n",
    "warnings.filterwarnings('ignore')\n",
    "\n",
    "import pandas as pd\n",
    "import numpy as np\n",
    "from matplotlib import style\n",
    "from matplotlib import pyplot as plt\n",
    "import statsmodels.formula.api as smf\n",
    "import graphviz as gr\n",
    "\n",
    "from linearmodels.panel import PanelOLS\n",
    "\n",
    "\n",
    "%matplotlib inline\n",
    "pd.set_option(\"display.max_columns\", 6)\n",
    "style.use(\"fivethirtyeight\")"
   ]
  },
  {
   "cell_type": "markdown",
   "id": "a8fc10b2",
   "metadata": {},
   "source": [
    "首先，让我们看一下我们在跨时间包含同一单位的多个观察后得到的因果图。 假设我们有这样一种情况，第一次结婚同时导致收入和随后的婚姻状况。 对于第 2 次和第 3 次也是如此。此外，假设所有时间段的美貌都是相同的（这是一个大胆的说法，但如果时间只有几年，这是合理的），它会导致婚姻和收入。"
   ]
  },
  {
   "cell_type": "code",
   "execution_count": null,
   "id": "e220106a",
   "metadata": {},
   "outputs": [],
   "source": [
    "g = gr.Digraph()\n",
    "g.edge(\"Marriage_1\", \"Income_1\")\n",
    "g.edge(\"Marriage_1\", \"Marriage_2\")\n",
    "g.edge(\"Marriage_2\", \"Income_2\")\n",
    "g.edge(\"Marriage_2\", \"Marriage_3\")\n",
    "g.edge(\"Marriage_3\", \"Income_3\")\n",
    "\n",
    "g.edge(\"Beauty\", \"Marriage_1\")\n",
    "g.edge(\"Beauty\", \"Marriage_2\")\n",
    "g.edge(\"Beauty\", \"Marriage_3\")\n",
    "\n",
    "g.edge(\"Beauty\", \"Income_1\")\n",
    "g.edge(\"Beauty\", \"Income_2\")\n",
    "g.edge(\"Beauty\", \"Income_3\")\n",
    "\n",
    "g"
   ]
  },
  {
   "cell_type": "markdown",
   "id": "7df33444",
   "metadata": {},
   "source": [
    "请记住，我们无法控制外貌多美这个因素，因为我们无法衡量它。 但是我们仍然可以使用面板结构，所以它不再是问题了。 这个想法是，我们可以将美——以及任何其他随时间不变的属性——视为定义一个人的综合要素。 虽然我们不能直接控制它们，但我们可以控制个人本身。"
   ]
  },
  {
   "cell_type": "code",
   "execution_count": null,
   "id": "a9e30326",
   "metadata": {},
   "outputs": [],
   "source": [
    "g = gr.Digraph()\n",
    "g.edge(\"Marriage_1\", \"Income_1\")\n",
    "g.edge(\"Marriage_1\", \"Marriage_2\")\n",
    "g.edge(\"Marriage_2\", \"Income_2\")\n",
    "g.edge(\"Marriage_2\", \"Marriage_3\")\n",
    "g.edge(\"Marriage_3\", \"Income_3\")\n",
    "\n",
    "g.edge(\"Person (Beauty, Intelligence...)\", \"Marriage_1\")\n",
    "g.edge(\"Person (Beauty, Intelligence...)\", \"Marriage_2\")\n",
    "g.edge(\"Person (Beauty, Intelligence...)\", \"Marriage_3\")\n",
    "\n",
    "g.edge(\"Person (Beauty, Intelligence...)\", \"Income_1\")\n",
    "g.edge(\"Person (Beauty, Intelligence...)\", \"Income_2\")\n",
    "g.edge(\"Person (Beauty, Intelligence...)\", \"Income_3\")\n",
    "\n",
    "g"
   ]
  },
  {
   "cell_type": "markdown",
   "id": "281057cb",
   "metadata": {},
   "source": [
    "想想看。我们无法衡量美貌和智力等属性，但我们知道拥有这些属性的人是同一个人。因此，我们可以创建一个表示该人的虚拟变量并将其添加到线性模型中。当我们说我们可以控制人本身时，这就是我们的意思：我们正在添加一个表示该特定人的变量（在本例中为虚拟变量）。在我们的模型中使用这个人来估计婚姻对收入的影响时，回归发现婚姻的影响**同时保持人这个变量固定**。添加这个实体个人对应的虚拟变量就是我们所说的固定效应模型。\n",
    "\n",
    "\n",
    "## 固定效应\n",
    "\n",
    "为了方面后面更正式地讲述，让我们首先看一下我们拥有的数据。按照我们的例子，我们将尝试估计婚姻对收入的影响。我们的数据包含多年以来多个个体 (`nr`) 的这两个变量，`married` 和`lwage`。请注意，工资采用对数形式。除此之外，我们还有其他控制措施，例如当年的工作小时数、受教育年限等。"
   ]
  }
 ],
 "metadata": {
  "kernelspec": {
   "display_name": "Python 3",
   "language": "python",
   "name": "python3"
  },
  "language_info": {
   "codemirror_mode": {
    "name": "ipython",
    "version": 3
   },
   "file_extension": ".py",
   "mimetype": "text/x-python",
   "name": "python",
   "nbconvert_exporter": "python",
   "pygments_lexer": "ipython3",
   "version": "3.7.6"
  }
 },
 "nbformat": 4,
 "nbformat_minor": 5
}
